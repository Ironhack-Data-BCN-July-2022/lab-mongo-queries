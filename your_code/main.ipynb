{
 "cells": [
  {
   "cell_type": "markdown",
   "metadata": {},
   "source": [
    "# Advanced Querying Mongo"
   ]
  },
  {
   "cell_type": "markdown",
   "metadata": {},
   "source": [
    "Importing libraries and setting up connection"
   ]
  },
  {
   "cell_type": "code",
   "execution_count": 1,
   "metadata": {},
   "outputs": [],
   "source": [
    "from pymongo import MongoClient\n",
    "import pandas as pd"
   ]
  },
  {
   "cell_type": "code",
   "execution_count": 2,
   "metadata": {},
   "outputs": [],
   "source": [
    "client = MongoClient('localhost:27017')"
   ]
  },
  {
   "cell_type": "code",
   "execution_count": 3,
   "metadata": {},
   "outputs": [],
   "source": [
    "db = client[\"Ironhack\"]"
   ]
  },
  {
   "cell_type": "code",
   "execution_count": 5,
   "metadata": {},
   "outputs": [],
   "source": [
    "c = db.get_collection(\"companies\")"
   ]
  },
  {
   "cell_type": "markdown",
   "metadata": {},
   "source": [
    "### 1. All the companies whose name match 'Babelgum'. Retrieve only their `name` field."
   ]
  },
  {
   "cell_type": "code",
   "execution_count": 10,
   "metadata": {},
   "outputs": [
    {
     "data": {
      "text/plain": [
       "[{'name': 'Babelgum'}]"
      ]
     },
     "execution_count": 10,
     "metadata": {},
     "output_type": "execute_result"
    }
   ],
   "source": [
    "filter_ = {\"name\":\"Babelgum\"}\n",
    "projection = {\"_id\":0, \"name\":1}\n",
    "list(c.find(filter_, projection))"
   ]
  },
  {
   "cell_type": "markdown",
   "metadata": {},
   "source": [
    "### 2. All the companies that have more than 5000 employees. Limit the search to 20 companies and sort them by **number of employees**."
   ]
  },
  {
   "cell_type": "code",
   "execution_count": 24,
   "metadata": {},
   "outputs": [
    {
     "data": {
      "text/plain": [
       "[{'name': 'Nintendo', 'number_of_employees': 5080},\n",
       " {'name': 'Hexaware Technologies', 'number_of_employees': 5200},\n",
       " {'name': 'Facebook', 'number_of_employees': 5299},\n",
       " {'name': 'OpenText', 'number_of_employees': 5300},\n",
       " {'name': 'LSI', 'number_of_employees': 5400},\n",
       " {'name': 'CPM Braxis', 'number_of_employees': 5400},\n",
       " {'name': 'Microchip Technologies', 'number_of_employees': 5500},\n",
       " {'name': 'Mediaset', 'number_of_employees': 5729},\n",
       " {'name': 'Mindray Medical International', 'number_of_employees': 5763},\n",
       " {'name': 'Baidu', 'number_of_employees': 6000},\n",
       " {'name': 'Dentsu', 'number_of_employees': 6000},\n",
       " {'name': 'Tata Communications', 'number_of_employees': 6000},\n",
       " {'name': 'Atmel', 'number_of_employees': 6000},\n",
       " {'name': 'Acxiom', 'number_of_employees': 6200},\n",
       " {'name': 'Acxiom', 'number_of_employees': 6200},\n",
       " {'name': 'SRA International', 'number_of_employees': 6400},\n",
       " {'name': \"Moody's\", 'number_of_employees': 6800},\n",
       " {'name': 'ManTech', 'number_of_employees': 7000},\n",
       " {'name': 'Adobe Systems', 'number_of_employees': 7173},\n",
       " {'name': 'Broadcom', 'number_of_employees': 7400}]"
      ]
     },
     "execution_count": 24,
     "metadata": {},
     "output_type": "execute_result"
    }
   ],
   "source": [
    "filter_ = {\"number_of_employees\": {\"$gt\": 5000}}\n",
    "projection = {\"_id\":0, \"name\":1, \"number_of_employees\":1}\n",
    "list(c.find(filter_, projection).sort(\"number_of_employees\", 1).limit(20))"
   ]
  },
  {
   "cell_type": "markdown",
   "metadata": {},
   "source": [
    "### 3. All the companies founded between 2000 and 2005, both years included. Retrieve only the `name` and `founded_year` fields."
   ]
  },
  {
   "cell_type": "code",
   "execution_count": 53,
   "metadata": {
    "scrolled": true
   },
   "outputs": [
    {
     "data": {
      "text/plain": [
       "[{'name': 'Wetpaint', 'founded_year': 2005},\n",
       " {'name': 'Zoho', 'founded_year': 2005},\n",
       " {'name': 'Digg', 'founded_year': 2004},\n",
       " {'name': 'Facebook', 'founded_year': 2004},\n",
       " {'name': 'Omnidrive', 'founded_year': 2005},\n",
       " {'name': 'StumbleUpon', 'founded_year': 2002},\n",
       " {'name': 'Gizmoz', 'founded_year': 2003},\n",
       " {'name': 'Helio', 'founded_year': 2005},\n",
       " {'name': 'Plaxo', 'founded_year': 2002},\n",
       " {'name': 'Technorati', 'founded_year': 2002}]"
      ]
     },
     "execution_count": 53,
     "metadata": {},
     "output_type": "execute_result"
    }
   ],
   "source": [
    "filter_1 = {\"founded_year\": {\"$gte\": 2000}}\n",
    "filter_2 = {\"founded_year\": {\"$lte\":2005}}\n",
    "projection = {\"_id\":0, \"name\":1, \"founded_year\":1}\n",
    "list(c.find({\"$and\": [filter_1, filter_2]}, projection))[:10]"
   ]
  },
  {
   "cell_type": "markdown",
   "metadata": {},
   "source": [
    "### 4. All the companies that had a Valuation Amount of more than 100.000.000 and have been founded before 2010. Retrieve only the `name` and `ipo` fields."
   ]
  },
  {
   "cell_type": "code",
   "execution_count": 54,
   "metadata": {},
   "outputs": [
    {
     "data": {
      "text/plain": [
       "[{'name': 'Facebook', 'ipo': {'valuation_amount': 104000000000}},\n",
       " {'name': 'Twitter', 'ipo': {'valuation_amount': 18100000000}},\n",
       " {'name': 'Yelp', 'ipo': {'valuation_amount': 1300000000}},\n",
       " {'name': 'LinkedIn', 'ipo': {'valuation_amount': 9310000000}},\n",
       " {'name': 'Amazon', 'ipo': {'valuation_amount': 100000000000}},\n",
       " {'name': 'Brightcove', 'ipo': {'valuation_amount': 290000000}},\n",
       " {'name': 'KIT digital', 'ipo': {'valuation_amount': 235000000}},\n",
       " {'name': 'Nielsen', 'ipo': {'valuation_amount': 1600000000}},\n",
       " {'name': 'OpenTable', 'ipo': {'valuation_amount': 1050000000}},\n",
       " {'name': 'ChannelAdvisor', 'ipo': {'valuation_amount': 287000000}}]"
      ]
     },
     "execution_count": 54,
     "metadata": {},
     "output_type": "execute_result"
    }
   ],
   "source": [
    "valuation = {\"ipo.valuation_amount\": {\"$gt\": 100000000}}\n",
    "founded = {\"founded_year\": {\"$lt\":2010}}\n",
    "projection = {\"_id\":0, \"name\":1, \"ipo.valuation_amount\":1}\n",
    "list(c.find({\"$and\": [valuation, founded]}, projection))[:10]"
   ]
  },
  {
   "cell_type": "markdown",
   "metadata": {},
   "source": [
    "### 5. All the companies that have less than 1000 employees and have been founded before 2005. Order them by the number of employees and limit the search to 10 companies."
   ]
  },
  {
   "cell_type": "code",
   "execution_count": 61,
   "metadata": {},
   "outputs": [
    {
     "data": {
      "text/plain": [
       "[{'name': 'Infinera Corporation', 'number_of_employees': 974},\n",
       " {'name': 'NorthPoint Communications Group', 'number_of_employees': 948},\n",
       " {'name': '888 Holdings', 'number_of_employees': 931},\n",
       " {'name': 'Forrester Research', 'number_of_employees': 903},\n",
       " {'name': 'Webmetrics', 'number_of_employees': 900},\n",
       " {'name': 'SonicWALL', 'number_of_employees': 900},\n",
       " {'name': 'Cornerstone OnDemand', 'number_of_employees': 881},\n",
       " {'name': 'Buongiorno', 'number_of_employees': 800},\n",
       " {'name': 'Cvent', 'number_of_employees': 800},\n",
       " {'name': 'ZoomInfo', 'number_of_employees': 800}]"
      ]
     },
     "execution_count": 61,
     "metadata": {},
     "output_type": "execute_result"
    }
   ],
   "source": [
    "employees = {\"number_of_employees\": {\"$lt\": 1000}}\n",
    "founded = {\"founded_year\": {\"$lt\":2005}}\n",
    "projection = {\"_id\":0, \"name\":1, \"number_of_employees\":1}\n",
    "list(c.find({\"$and\": [employees, founded]}, projection).limit(10).sort(\"number_of_employees\",-1))"
   ]
  },
  {
   "cell_type": "markdown",
   "metadata": {},
   "source": [
    "### 6. All the companies that don't include the `partners` field."
   ]
  },
  {
   "cell_type": "code",
   "execution_count": 83,
   "metadata": {},
   "outputs": [
    {
     "data": {
      "text/plain": [
       "[]"
      ]
     },
     "execution_count": 83,
     "metadata": {},
     "output_type": "execute_result"
    }
   ],
   "source": [
    "list(c.find({\"partners\": {\"$exists\": False}}))"
   ]
  },
  {
   "cell_type": "markdown",
   "metadata": {},
   "source": [
    "### 7. All the companies that have a null type of value on the `category_code` field."
   ]
  },
  {
   "cell_type": "code",
   "execution_count": 82,
   "metadata": {},
   "outputs": [
    {
     "data": {
      "text/plain": [
       "[{'name': 'Collective'},\n",
       " {'name': 'Snimmer'},\n",
       " {'name': 'KoolIM'},\n",
       " {'name': 'Level9 Media'},\n",
       " {'name': 'VidKing'},\n",
       " {'name': 'Drigg'},\n",
       " {'name': 'SpaceTime'},\n",
       " {'name': 'Touch Clarity'},\n",
       " {'name': 'MMDAYS'},\n",
       " {'name': 'Inside Group'}]"
      ]
     },
     "execution_count": 82,
     "metadata": {},
     "output_type": "execute_result"
    }
   ],
   "source": [
    "query={\"category_code\":{\"$type\": 10}}\n",
    "projection={\"name\":1,\"_id\":0}\n",
    "list(c.find(query, projection).limit(10))"
   ]
  },
  {
   "cell_type": "markdown",
   "metadata": {},
   "source": [
    "### 8. All the companies that have at least 100 employees but less than 1000. Retrieve only the `name` and `number of employees` fields."
   ]
  },
  {
   "cell_type": "code",
   "execution_count": 75,
   "metadata": {},
   "outputs": [
    {
     "data": {
      "text/plain": [
       "[{'name': 'Datamonitor', 'number_of_employees': 984},\n",
       " {'name': 'Infinera Corporation', 'number_of_employees': 974},\n",
       " {'name': 'Box', 'number_of_employees': 950},\n",
       " {'name': 'NorthPoint Communications Group', 'number_of_employees': 948},\n",
       " {'name': '888 Holdings', 'number_of_employees': 931},\n",
       " {'name': 'Forrester Research', 'number_of_employees': 903},\n",
       " {'name': 'Workday', 'number_of_employees': 900},\n",
       " {'name': 'InMobi', 'number_of_employees': 900},\n",
       " {'name': 'Relax Solutions Pvt Ltd', 'number_of_employees': 900},\n",
       " {'name': 'SonicWALL', 'number_of_employees': 900}]"
      ]
     },
     "execution_count": 75,
     "metadata": {},
     "output_type": "execute_result"
    }
   ],
   "source": [
    "employees = {\"number_of_employees\": {\"$gte\": 100, '$lt' : 1000}}\n",
    "projection = {\"_id\":0, \"name\":1, \"number_of_employees\":1}\n",
    "list(c.find(employees, projection).sort(\"number_of_employees\",-1))[:10]"
   ]
  },
  {
   "cell_type": "markdown",
   "metadata": {},
   "source": [
    "### 9. Order all the companies by their IPO price in a descending order."
   ]
  },
  {
   "cell_type": "code",
   "execution_count": 86,
   "metadata": {},
   "outputs": [
    {
     "data": {
      "text/plain": [
       "[{'name': 'GREE', 'ipo': {'valuation_amount': 108960000000}},\n",
       " {'name': 'Facebook', 'ipo': {'valuation_amount': 104000000000}},\n",
       " {'name': 'Amazon', 'ipo': {'valuation_amount': 100000000000}},\n",
       " {'name': 'Twitter', 'ipo': {'valuation_amount': 18100000000}},\n",
       " {'name': 'Groupon', 'ipo': {'valuation_amount': 12800000000}},\n",
       " {'name': 'Tencent', 'ipo': {'valuation_amount': 11000000000}},\n",
       " {'name': 'Western Digital', 'ipo': {'valuation_amount': 9430000000}},\n",
       " {'name': 'LinkedIn', 'ipo': {'valuation_amount': 9310000000}},\n",
       " {'name': 'BMC Software', 'ipo': {'valuation_amount': 6000000000}},\n",
       " {'name': 'Rackspace', 'ipo': {'valuation_amount': 5440000000}}]"
      ]
     },
     "execution_count": 86,
     "metadata": {},
     "output_type": "execute_result"
    }
   ],
   "source": [
    "list(c.find({},{\"_id\":0, \"name\":1, \"ipo.valuation_amount\":1}).sort(\"ipo.valuation_amount\",-1))[:10]"
   ]
  },
  {
   "cell_type": "markdown",
   "metadata": {},
   "source": [
    "### 10. Retrieve the 10 companies with more employees, order by the `number of employees`"
   ]
  },
  {
   "cell_type": "code",
   "execution_count": 87,
   "metadata": {},
   "outputs": [
    {
     "data": {
      "text/plain": [
       "[{'name': 'Siemens', 'number_of_employees': 405000},\n",
       " {'name': 'IBM', 'number_of_employees': 388000},\n",
       " {'name': 'Toyota', 'number_of_employees': 320000},\n",
       " {'name': 'PayPal', 'number_of_employees': 300000},\n",
       " {'name': 'Nippon Telegraph and Telephone Corporation',\n",
       "  'number_of_employees': 227000},\n",
       " {'name': 'Samsung Electronics', 'number_of_employees': 221726},\n",
       " {'name': 'Accenture', 'number_of_employees': 205000},\n",
       " {'name': 'Tata Consultancy Services', 'number_of_employees': 200300},\n",
       " {'name': 'Flextronics International', 'number_of_employees': 200000},\n",
       " {'name': 'Safeway', 'number_of_employees': 186000}]"
      ]
     },
     "execution_count": 87,
     "metadata": {},
     "output_type": "execute_result"
    }
   ],
   "source": [
    "list(c.find({},{\"_id\":0, \"name\":1, \"number_of_employees\":1}).sort(\"number_of_employees\",-1).limit(10))"
   ]
  },
  {
   "cell_type": "markdown",
   "metadata": {},
   "source": [
    "### 11. All the companies founded on the second semester of the year. Limit your search to 1000 companies."
   ]
  },
  {
   "cell_type": "code",
   "execution_count": 88,
   "metadata": {},
   "outputs": [
    {
     "data": {
      "text/plain": [
       "[{'name': 'Wetpaint', 'founded_month': 10},\n",
       " {'name': 'Zoho', 'founded_month': 9},\n",
       " {'name': 'Digg', 'founded_month': 10},\n",
       " {'name': 'Omnidrive', 'founded_month': 11},\n",
       " {'name': 'Postini', 'founded_month': 6},\n",
       " {'name': 'Geni', 'founded_month': 6},\n",
       " {'name': 'Fox Interactive Media', 'founded_month': 6},\n",
       " {'name': 'eBay', 'founded_month': 9},\n",
       " {'name': 'Joost', 'founded_month': 10},\n",
       " {'name': 'Plaxo', 'founded_month': 11}]"
      ]
     },
     "execution_count": 88,
     "metadata": {},
     "output_type": "execute_result"
    }
   ],
   "source": [
    "list(c.find({\"founded_month\":{\"$gte\":6}},{\"_id\":0, \"name\":1, \"founded_month\":1}).limit(1000))[:10]\n"
   ]
  },
  {
   "cell_type": "markdown",
   "metadata": {},
   "source": [
    "### 12. All the companies founded before 2000 that have an acquisition amount of more than 10.000.00"
   ]
  },
  {
   "cell_type": "code",
   "execution_count": 89,
   "metadata": {},
   "outputs": [
    {
     "data": {
      "text/plain": [
       "[{'name': 'Postini',\n",
       "  'founded_year': 1999,\n",
       "  'acquisition': {'price_amount': 625000000}},\n",
       " {'name': 'SideStep',\n",
       "  'founded_year': 1999,\n",
       "  'acquisition': {'price_amount': 180000000}},\n",
       " {'name': 'Recipezaar',\n",
       "  'founded_year': 1999,\n",
       "  'acquisition': {'price_amount': 25000000}},\n",
       " {'name': 'Cyworld',\n",
       "  'founded_year': 1999,\n",
       "  'acquisition': {'price_amount': 7140000}},\n",
       " {'name': 'PayPal',\n",
       "  'founded_year': 1998,\n",
       "  'acquisition': {'price_amount': 1500000000}},\n",
       " {'name': 'Snapfish',\n",
       "  'founded_year': 1999,\n",
       "  'acquisition': {'price_amount': 300000000}},\n",
       " {'name': 'Neopets',\n",
       "  'founded_year': 1999,\n",
       "  'acquisition': {'price_amount': 160000000}},\n",
       " {'name': 'Sun Microsystems',\n",
       "  'founded_year': 1982,\n",
       "  'acquisition': {'price_amount': 7400000000}},\n",
       " {'name': 'Zappos',\n",
       "  'founded_year': 1999,\n",
       "  'acquisition': {'price_amount': 1200000000}},\n",
       " {'name': 'Alibaba',\n",
       "  'founded_year': 1999,\n",
       "  'acquisition': {'price_amount': 1000000000}}]"
      ]
     },
     "execution_count": 89,
     "metadata": {},
     "output_type": "execute_result"
    }
   ],
   "source": [
    "price = {\"acquisition.price_amount\": {\"$gte\": 10000}}\n",
    "founded = {\"founded_year\": {\"$lt\": 2000}}\n",
    "projection = {\"_id\":0, \"name\":1, \"founded_year\":1, \"acquisition.price_amount\":1}\n",
    "list(c.find({\"$and\": [price,founded]}, projection))[:10]"
   ]
  },
  {
   "cell_type": "markdown",
   "metadata": {},
   "source": [
    "### 13. All the companies that have been acquired after 2010, order by the acquisition amount, and retrieve only their `name` and `acquisition` field."
   ]
  },
  {
   "cell_type": "code",
   "execution_count": 90,
   "metadata": {},
   "outputs": [
    {
     "data": {
      "text/plain": [
       "[{'name': 'T-Mobile',\n",
       "  'acquisition': {'price_amount': 39000000000,\n",
       "   'price_currency_code': 'USD',\n",
       "   'term_code': None,\n",
       "   'source_url': 'http://techcrunch.com/2011/03/20/in-the-race-for-more-spectrum-att-is-acquiring-t-mobile-for-39-billion/',\n",
       "   'source_description': 'In The Race For More Spectrum, AT&T Is Acquiring T-Mobile For $39 Billion',\n",
       "   'acquired_year': 2011,\n",
       "   'acquired_month': 3,\n",
       "   'acquired_day': 20,\n",
       "   'acquiring_company': {'name': 'AT&T', 'permalink': 'at-t'}}},\n",
       " {'name': 'Goodrich Corporation',\n",
       "  'acquisition': {'price_amount': 18400000000,\n",
       "   'price_currency_code': 'USD',\n",
       "   'term_code': None,\n",
       "   'source_url': 'http://www.masshightech.com/stories/2011/09/19/daily37-UTC-shells-out-184-billion-for-Goodrich.html',\n",
       "   'source_description': 'UTC shells out $18.4 billion for Goodrich',\n",
       "   'acquired_year': 2011,\n",
       "   'acquired_month': 9,\n",
       "   'acquired_day': 22,\n",
       "   'acquiring_company': {'name': 'United Technologies',\n",
       "    'permalink': 'united-technologies'}}}]"
      ]
     },
     "execution_count": 90,
     "metadata": {},
     "output_type": "execute_result"
    }
   ],
   "source": [
    "acquired_year = {\"acquisition.acquired_year\": {\"$gt\": 2010}}\n",
    "projection = {\"_id\":0, \"name\":1, \"acquisition\":1}\n",
    "list(c.find(acquired_year, projection).sort(\"acquisition.price_amount\",-1))[:2]"
   ]
  },
  {
   "cell_type": "markdown",
   "metadata": {},
   "source": [
    "### 14. Order the companies by their `founded year`, retrieving only their `name` and `founded year`."
   ]
  },
  {
   "cell_type": "code",
   "execution_count": 91,
   "metadata": {},
   "outputs": [
    {
     "data": {
      "text/plain": [
       "[{'name': 'Fixya', 'founded_year': 2013},\n",
       " {'name': 'Wamba', 'founded_year': 2013},\n",
       " {'name': 'Advaliant', 'founded_year': 2013},\n",
       " {'name': 'Fluc', 'founded_year': 2013},\n",
       " {'name': 'iBazar', 'founded_year': 2013},\n",
       " {'name': 'Gimigo', 'founded_year': 2013},\n",
       " {'name': 'SEOGroup', 'founded_year': 2013},\n",
       " {'name': 'Clowdy', 'founded_year': 2013},\n",
       " {'name': 'WhosCall', 'founded_year': 2013},\n",
       " {'name': 'Pikk', 'founded_year': 2013}]"
      ]
     },
     "execution_count": 91,
     "metadata": {},
     "output_type": "execute_result"
    }
   ],
   "source": [
    "list(c.find({},{\"_id\":0, \"name\":1, \"founded_year\":1}).sort(\"founded_year\",-1))[:10]"
   ]
  },
  {
   "cell_type": "markdown",
   "metadata": {},
   "source": [
    "### 15. All the companies that have been founded on the first seven days of the month, including the seventh. Sort them by their `acquisition price` in a descending order. Limit the search to 10 documents."
   ]
  },
  {
   "cell_type": "code",
   "execution_count": 92,
   "metadata": {},
   "outputs": [
    {
     "data": {
      "text/plain": [
       "[{'name': 'Netscape',\n",
       "  'founded_day': 4,\n",
       "  'acquisition': {'price_amount': 4200000000}},\n",
       " {'name': 'PayPal',\n",
       "  'founded_day': 1,\n",
       "  'acquisition': {'price_amount': 1500000000}},\n",
       " {'name': 'Zappos',\n",
       "  'founded_day': 1,\n",
       "  'acquisition': {'price_amount': 1200000000}},\n",
       " {'name': 'Alibaba',\n",
       "  'founded_day': 1,\n",
       "  'acquisition': {'price_amount': 1000000000}},\n",
       " {'name': 'Postini',\n",
       "  'founded_day': 2,\n",
       "  'acquisition': {'price_amount': 625000000}},\n",
       " {'name': 'Danger',\n",
       "  'founded_day': 1,\n",
       "  'acquisition': {'price_amount': 500000000}},\n",
       " {'name': 'Clearwell Systems',\n",
       "  'founded_day': 6,\n",
       "  'acquisition': {'price_amount': 410000000}},\n",
       " {'name': 'PrimeSense',\n",
       "  'founded_day': 1,\n",
       "  'acquisition': {'price_amount': 345000000}},\n",
       " {'name': 'Amobee',\n",
       "  'founded_day': 1,\n",
       "  'acquisition': {'price_amount': 321000000}},\n",
       " {'name': 'Vitrue',\n",
       "  'founded_day': 1,\n",
       "  'acquisition': {'price_amount': 300000000}}]"
      ]
     },
     "execution_count": 92,
     "metadata": {},
     "output_type": "execute_result"
    }
   ],
   "source": [
    "founded_day = {\"founded_day\": {\"$lte\": 7, \"$gt\":0}}\n",
    "projection = {\"_id\":0, \"name\":1, \"founded_day\":1, \"acquisition.price_amount\":1}\n",
    "list(c.find(founded_day, projection).sort(\"acquisition.price_amount\",-1).limit(10))"
   ]
  },
  {
   "cell_type": "markdown",
   "metadata": {},
   "source": [
    "### 16. All the companies on the 'web' `category` that have more than 4000 employees. Sort them by the amount of employees in ascending order."
   ]
  },
  {
   "cell_type": "code",
   "execution_count": 93,
   "metadata": {},
   "outputs": [
    {
     "data": {
      "text/plain": [
       "[{'name': 'Expedia',\n",
       "  'number_of_employees': 4400,\n",
       "  'acquisition': {'price_amount': None}},\n",
       " {'name': 'AOL', 'number_of_employees': 8000},\n",
       " {'name': 'Webkinz', 'number_of_employees': 8657},\n",
       " {'name': 'Rakuten', 'number_of_employees': 10000},\n",
       " {'name': 'Los Angeles Times Media Group',\n",
       "  'number_of_employees': 10000,\n",
       "  'acquisition': {'price_amount': None}},\n",
       " {'name': 'Groupon', 'number_of_employees': 10000},\n",
       " {'name': 'Yahoo!', 'number_of_employees': 13600},\n",
       " {'name': 'eBay', 'number_of_employees': 15000},\n",
       " {'name': 'Experian', 'number_of_employees': 15500}]"
      ]
     },
     "execution_count": 93,
     "metadata": {},
     "output_type": "execute_result"
    }
   ],
   "source": [
    "n_employees = {\"number_of_employees\": {\"$gt\":4000}}\n",
    "category = {\"category_code\":\"web\"}\n",
    "projection = {\"_id\":0, \"name\":1, \"number_of_employees\":1, \"acquisition.price_amount\":1}\n",
    "list(c.find({\"$and\": [n_employees, category]}, projection).sort(\"number_of_employees\"))[:10]"
   ]
  },
  {
   "cell_type": "markdown",
   "metadata": {},
   "source": [
    "### 17. All the companies whose acquisition amount is more than 10.000.000, and currency is 'EUR'."
   ]
  },
  {
   "cell_type": "code",
   "execution_count": 94,
   "metadata": {},
   "outputs": [
    {
     "data": {
      "text/plain": [
       "[{'name': 'Mobile Trend',\n",
       "  'acquisition': {'price_amount': 7000000, 'price_currency_code': 'EUR'}},\n",
       " {'name': 'Citizenside',\n",
       "  'acquisition': {'price_amount': 30000, 'price_currency_code': 'EUR'}},\n",
       " {'name': 'Excite Europe',\n",
       "  'acquisition': {'price_amount': 2500000, 'price_currency_code': 'EUR'}},\n",
       " {'name': 'YelloYello',\n",
       "  'acquisition': {'price_amount': 2500000, 'price_currency_code': 'EUR'}},\n",
       " {'name': 'Branded Payment Solutions',\n",
       "  'acquisition': {'price_amount': 3100000, 'price_currency_code': 'EUR'}}]"
      ]
     },
     "execution_count": 94,
     "metadata": {},
     "output_type": "execute_result"
    }
   ],
   "source": [
    "list(c.find({\"$and\":[{\"acquisition.price_amount\":{\"$lt\":10000000}},\n",
    "                    {\"acquisition.price_currency_code\":{\"$eq\":\"EUR\"}}]},\n",
    "                    {\"_id\":0,\"name\":1,\"acquisition.price_amount\":1,\"acquisition.price_currency_code\":1}))"
   ]
  },
  {
   "cell_type": "markdown",
   "metadata": {},
   "source": [
    "### 18. All the companies that have been acquired on the first trimester of the year. Limit the search to 10 companies, and retrieve only their `name` and `acquisition` fields."
   ]
  },
  {
   "cell_type": "code",
   "execution_count": 95,
   "metadata": {},
   "outputs": [
    {
     "data": {
      "text/plain": [
       "[{'name': 'Facebook', 'acquisition': None},\n",
       " {'name': 'Twitter', 'acquisition': None}]"
      ]
     },
     "execution_count": 95,
     "metadata": {},
     "output_type": "execute_result"
    }
   ],
   "source": [
    "month = {\"founded_month\": {\"$gte\": 1,\"$lte\": 3}}\n",
    "projection = {\"_id\":0, \"name\":1, \"acquisition\":1}\n",
    "list(c.find(month, projection).limit(10))[:2]"
   ]
  },
  {
   "cell_type": "markdown",
   "metadata": {},
   "source": [
    "# Bonus\n",
    "### 19. All the companies that have been founded between 2000 and 2010, but have not been acquired before 2011."
   ]
  },
  {
   "cell_type": "code",
   "execution_count": null,
   "metadata": {},
   "outputs": [],
   "source": [
    "# Your Code"
   ]
  },
  {
   "cell_type": "markdown",
   "metadata": {},
   "source": [
    "### 20. All the companies that have been 'deadpooled' after the third year."
   ]
  },
  {
   "cell_type": "code",
   "execution_count": null,
   "metadata": {},
   "outputs": [],
   "source": [
    "# Your Code"
   ]
  }
 ],
 "metadata": {
  "kernelspec": {
   "display_name": "Python 3 (ipykernel)",
   "language": "python",
   "name": "python3"
  },
  "language_info": {
   "codemirror_mode": {
    "name": "ipython",
    "version": 3
   },
   "file_extension": ".py",
   "mimetype": "text/x-python",
   "name": "python",
   "nbconvert_exporter": "python",
   "pygments_lexer": "ipython3",
   "version": "3.9.12"
  },
  "toc": {
   "base_numbering": 1,
   "nav_menu": {},
   "number_sections": true,
   "sideBar": true,
   "skip_h1_title": true,
   "title_cell": "Table of Contents",
   "title_sidebar": "Contents",
   "toc_cell": false,
   "toc_position": {},
   "toc_section_display": true,
   "toc_window_display": false
  }
 },
 "nbformat": 4,
 "nbformat_minor": 2
}
